{
 "cells": [
  {
   "cell_type": "markdown",
   "metadata": {},
   "source": [
    "# Exercises"
   ]
  },
  {
   "cell_type": "markdown",
   "metadata": {},
   "source": [
    "## 1. What was the average age in male and female athletes?"
   ]
  },
  {
   "cell_type": "code",
   "execution_count": 96,
   "metadata": {
    "collapsed": true
   },
   "outputs": [],
   "source": [
    "import pandas as pd\n",
    "\n",
    "data=pd.read_csv('athletes.csv')"
   ]
  },
  {
   "cell_type": "code",
   "execution_count": 97,
   "metadata": {
    "collapsed": false
   },
   "outputs": [
    {
     "data": {
      "text/html": [
       "<div>\n",
       "<table border=\"1\" class=\"dataframe\">\n",
       "  <thead>\n",
       "    <tr style=\"text-align: right;\">\n",
       "      <th></th>\n",
       "      <th>id</th>\n",
       "      <th>name</th>\n",
       "      <th>nationality</th>\n",
       "      <th>sex</th>\n",
       "      <th>dob</th>\n",
       "      <th>height</th>\n",
       "      <th>weight</th>\n",
       "      <th>sport</th>\n",
       "      <th>gold</th>\n",
       "      <th>silver</th>\n",
       "      <th>bronze</th>\n",
       "    </tr>\n",
       "  </thead>\n",
       "  <tbody>\n",
       "    <tr>\n",
       "      <th>0</th>\n",
       "      <td>736041664</td>\n",
       "      <td>A Jesus Garcia</td>\n",
       "      <td>ESP</td>\n",
       "      <td>male</td>\n",
       "      <td>10/17/69</td>\n",
       "      <td>1.72</td>\n",
       "      <td>64.0</td>\n",
       "      <td>athletics</td>\n",
       "      <td>0</td>\n",
       "      <td>0</td>\n",
       "      <td>0</td>\n",
       "    </tr>\n",
       "    <tr>\n",
       "      <th>1</th>\n",
       "      <td>532037425</td>\n",
       "      <td>A Lam Shin</td>\n",
       "      <td>KOR</td>\n",
       "      <td>female</td>\n",
       "      <td>9/23/86</td>\n",
       "      <td>1.68</td>\n",
       "      <td>56.0</td>\n",
       "      <td>fencing</td>\n",
       "      <td>0</td>\n",
       "      <td>0</td>\n",
       "      <td>0</td>\n",
       "    </tr>\n",
       "    <tr>\n",
       "      <th>2</th>\n",
       "      <td>435962603</td>\n",
       "      <td>Aaron Brown</td>\n",
       "      <td>CAN</td>\n",
       "      <td>male</td>\n",
       "      <td>5/27/92</td>\n",
       "      <td>1.98</td>\n",
       "      <td>79.0</td>\n",
       "      <td>athletics</td>\n",
       "      <td>0</td>\n",
       "      <td>0</td>\n",
       "      <td>1</td>\n",
       "    </tr>\n",
       "    <tr>\n",
       "      <th>3</th>\n",
       "      <td>521041435</td>\n",
       "      <td>Aaron Cook</td>\n",
       "      <td>MDA</td>\n",
       "      <td>male</td>\n",
       "      <td>1/2/91</td>\n",
       "      <td>1.83</td>\n",
       "      <td>80.0</td>\n",
       "      <td>taekwondo</td>\n",
       "      <td>0</td>\n",
       "      <td>0</td>\n",
       "      <td>0</td>\n",
       "    </tr>\n",
       "    <tr>\n",
       "      <th>4</th>\n",
       "      <td>33922579</td>\n",
       "      <td>Aaron Gate</td>\n",
       "      <td>NZL</td>\n",
       "      <td>male</td>\n",
       "      <td>11/26/90</td>\n",
       "      <td>1.81</td>\n",
       "      <td>71.0</td>\n",
       "      <td>cycling</td>\n",
       "      <td>0</td>\n",
       "      <td>0</td>\n",
       "      <td>0</td>\n",
       "    </tr>\n",
       "  </tbody>\n",
       "</table>\n",
       "</div>"
      ],
      "text/plain": [
       "          id            name nationality     sex       dob  height  weight  \\\n",
       "0  736041664  A Jesus Garcia         ESP    male  10/17/69    1.72    64.0   \n",
       "1  532037425      A Lam Shin         KOR  female   9/23/86    1.68    56.0   \n",
       "2  435962603     Aaron Brown         CAN    male   5/27/92    1.98    79.0   \n",
       "3  521041435      Aaron Cook         MDA    male    1/2/91    1.83    80.0   \n",
       "4   33922579      Aaron Gate         NZL    male  11/26/90    1.81    71.0   \n",
       "\n",
       "       sport  gold  silver  bronze  \n",
       "0  athletics     0       0       0  \n",
       "1    fencing     0       0       0  \n",
       "2  athletics     0       0       1  \n",
       "3  taekwondo     0       0       0  \n",
       "4    cycling     0       0       0  "
      ]
     },
     "execution_count": 97,
     "metadata": {},
     "output_type": "execute_result"
    }
   ],
   "source": [
    "data.head()\n",
    "#data.dtypes"
   ]
  },
  {
   "cell_type": "code",
   "execution_count": 98,
   "metadata": {
    "collapsed": false
   },
   "outputs": [
    {
     "name": "stdout",
     "output_type": "stream",
     "text": [
      "nan\n"
     ]
    }
   ],
   "source": [
    "from datetime import datetime, date\n",
    "\n",
    "def date_format(x):\n",
    "    try:\n",
    "        x=str(x)\n",
    "        number=x.find('/')\n",
    "        month=int(x[:number])\n",
    "        x=x[number+1:]\n",
    "        number=x.find('/')\n",
    "        day=int(x[:number])\n",
    "        year=int(x[number+1:])\n",
    "        if year<16:\n",
    "            year=year+2000\n",
    "        else:\n",
    "            year=year+1900\n",
    "        return date( year, month, day)\n",
    "    except:\n",
    "        print(x)\n",
    "\n",
    "data['date_of_birth']=data['dob'].apply(lambda x: date_format(str(x)))"
   ]
  },
  {
   "cell_type": "code",
   "execution_count": 99,
   "metadata": {
    "collapsed": false
   },
   "outputs": [],
   "source": [
    "import numpy as np\n",
    "data=data[data['dob'].isnull()==False]"
   ]
  },
  {
   "cell_type": "code",
   "execution_count": 184,
   "metadata": {
    "collapsed": false
   },
   "outputs": [
    {
     "data": {
      "text/html": [
       "<div>\n",
       "<table border=\"1\" class=\"dataframe\">\n",
       "  <thead>\n",
       "    <tr style=\"text-align: right;\">\n",
       "      <th></th>\n",
       "      <th>id</th>\n",
       "      <th>name</th>\n",
       "      <th>nationality</th>\n",
       "      <th>sex</th>\n",
       "      <th>dob</th>\n",
       "      <th>height</th>\n",
       "      <th>weight</th>\n",
       "      <th>sport</th>\n",
       "      <th>gold</th>\n",
       "      <th>silver</th>\n",
       "      <th>bronze</th>\n",
       "      <th>date_of_birth</th>\n",
       "      <th>age</th>\n",
       "      <th>age_int</th>\n",
       "      <th>birthday</th>\n",
       "      <th>country</th>\n",
       "      <th>code</th>\n",
       "      <th>total_medals</th>\n",
       "    </tr>\n",
       "  </thead>\n",
       "  <tbody>\n",
       "    <tr>\n",
       "      <th>0</th>\n",
       "      <td>736041664</td>\n",
       "      <td>A Jesus Garcia</td>\n",
       "      <td>ESP</td>\n",
       "      <td>male</td>\n",
       "      <td>10/17/69</td>\n",
       "      <td>1.72</td>\n",
       "      <td>64.0</td>\n",
       "      <td>athletics</td>\n",
       "      <td>0</td>\n",
       "      <td>0</td>\n",
       "      <td>0</td>\n",
       "      <td>1969-10-17</td>\n",
       "      <td>17094 days</td>\n",
       "      <td>46.832877</td>\n",
       "      <td>17/10</td>\n",
       "      <td>Spain</td>\n",
       "      <td>ESP</td>\n",
       "      <td>0</td>\n",
       "    </tr>\n",
       "    <tr>\n",
       "      <th>1</th>\n",
       "      <td>532037425</td>\n",
       "      <td>A Lam Shin</td>\n",
       "      <td>KOR</td>\n",
       "      <td>female</td>\n",
       "      <td>9/23/86</td>\n",
       "      <td>1.68</td>\n",
       "      <td>56.0</td>\n",
       "      <td>fencing</td>\n",
       "      <td>0</td>\n",
       "      <td>0</td>\n",
       "      <td>0</td>\n",
       "      <td>1986-09-23</td>\n",
       "      <td>10909 days</td>\n",
       "      <td>29.887671</td>\n",
       "      <td>23/9</td>\n",
       "      <td>Korea, South</td>\n",
       "      <td>KOR</td>\n",
       "      <td>0</td>\n",
       "    </tr>\n",
       "    <tr>\n",
       "      <th>2</th>\n",
       "      <td>435962603</td>\n",
       "      <td>Aaron Brown</td>\n",
       "      <td>CAN</td>\n",
       "      <td>male</td>\n",
       "      <td>5/27/92</td>\n",
       "      <td>1.98</td>\n",
       "      <td>79.0</td>\n",
       "      <td>athletics</td>\n",
       "      <td>0</td>\n",
       "      <td>0</td>\n",
       "      <td>1</td>\n",
       "      <td>1992-05-27</td>\n",
       "      <td>8836 days</td>\n",
       "      <td>24.208219</td>\n",
       "      <td>27/5</td>\n",
       "      <td>Canada</td>\n",
       "      <td>CAN</td>\n",
       "      <td>1</td>\n",
       "    </tr>\n",
       "    <tr>\n",
       "      <th>3</th>\n",
       "      <td>521041435</td>\n",
       "      <td>Aaron Cook</td>\n",
       "      <td>MDA</td>\n",
       "      <td>male</td>\n",
       "      <td>1/2/91</td>\n",
       "      <td>1.83</td>\n",
       "      <td>80.0</td>\n",
       "      <td>taekwondo</td>\n",
       "      <td>0</td>\n",
       "      <td>0</td>\n",
       "      <td>0</td>\n",
       "      <td>1991-01-02</td>\n",
       "      <td>9347 days</td>\n",
       "      <td>25.608219</td>\n",
       "      <td>2/1</td>\n",
       "      <td>Moldova</td>\n",
       "      <td>MDA</td>\n",
       "      <td>0</td>\n",
       "    </tr>\n",
       "    <tr>\n",
       "      <th>4</th>\n",
       "      <td>33922579</td>\n",
       "      <td>Aaron Gate</td>\n",
       "      <td>NZL</td>\n",
       "      <td>male</td>\n",
       "      <td>11/26/90</td>\n",
       "      <td>1.81</td>\n",
       "      <td>71.0</td>\n",
       "      <td>cycling</td>\n",
       "      <td>0</td>\n",
       "      <td>0</td>\n",
       "      <td>0</td>\n",
       "      <td>1990-11-26</td>\n",
       "      <td>9384 days</td>\n",
       "      <td>25.709589</td>\n",
       "      <td>26/11</td>\n",
       "      <td>New Zealand</td>\n",
       "      <td>NZL</td>\n",
       "      <td>0</td>\n",
       "    </tr>\n",
       "  </tbody>\n",
       "</table>\n",
       "</div>"
      ],
      "text/plain": [
       "          id            name nationality     sex       dob  height  weight  \\\n",
       "0  736041664  A Jesus Garcia         ESP    male  10/17/69    1.72    64.0   \n",
       "1  532037425      A Lam Shin         KOR  female   9/23/86    1.68    56.0   \n",
       "2  435962603     Aaron Brown         CAN    male   5/27/92    1.98    79.0   \n",
       "3  521041435      Aaron Cook         MDA    male    1/2/91    1.83    80.0   \n",
       "4   33922579      Aaron Gate         NZL    male  11/26/90    1.81    71.0   \n",
       "\n",
       "       sport  gold  silver  bronze date_of_birth        age    age_int  \\\n",
       "0  athletics     0       0       0    1969-10-17 17094 days  46.832877   \n",
       "1    fencing     0       0       0    1986-09-23 10909 days  29.887671   \n",
       "2  athletics     0       0       1    1992-05-27  8836 days  24.208219   \n",
       "3  taekwondo     0       0       0    1991-01-02  9347 days  25.608219   \n",
       "4    cycling     0       0       0    1990-11-26  9384 days  25.709589   \n",
       "\n",
       "  birthday       country code  total_medals  \n",
       "0    17/10         Spain  ESP             0  \n",
       "1     23/9  Korea, South  KOR             0  \n",
       "2     27/5        Canada  CAN             1  \n",
       "3      2/1       Moldova  MDA             0  \n",
       "4    26/11   New Zealand  NZL             0  "
      ]
     },
     "execution_count": 184,
     "metadata": {},
     "output_type": "execute_result"
    }
   ],
   "source": [
    "data['age']=date(2016,8,5)-data['date_of_birth']\n",
    "\n",
    "data['age_int']=data['age'].apply(lambda x: x.days/365)\n",
    "data.head()"
   ]
  },
  {
   "cell_type": "code",
   "execution_count": 185,
   "metadata": {
    "collapsed": false
   },
   "outputs": [
    {
     "data": {
      "text/plain": [
       "sex\n",
       "female    26.328039\n",
       "male      27.241155\n",
       "Name: age_int, dtype: float64"
      ]
     },
     "execution_count": 185,
     "metadata": {},
     "output_type": "execute_result"
    }
   ],
   "source": [
    "#Average age for female and male\n",
    "data.groupby('sex')['age_int'].mean()"
   ]
  },
  {
   "cell_type": "markdown",
   "metadata": {},
   "source": [
    "## 2. What are the most common Dates of Birth?\n",
    "\n",
    "*To clarify - day, month, year*"
   ]
  },
  {
   "cell_type": "code",
   "execution_count": 102,
   "metadata": {
    "collapsed": false
   },
   "outputs": [
    {
     "data": {
      "text/plain": [
       "1988-03-05    9\n",
       "1990-12-20    9\n",
       "1993-02-18    9\n",
       "1988-04-03    8\n",
       "1993-03-03    8\n",
       "1990-05-02    8\n",
       "1988-04-29    8\n",
       "1991-06-19    8\n",
       "1989-12-14    8\n",
       "1993-07-30    8\n",
       "1989-03-01    8\n",
       "1989-06-09    8\n",
       "Name: date_of_birth, dtype: int64"
      ]
     },
     "execution_count": 102,
     "metadata": {},
     "output_type": "execute_result"
    }
   ],
   "source": [
    "data['date_of_birth'].value_counts()[:12]"
   ]
  },
  {
   "cell_type": "markdown",
   "metadata": {},
   "source": [
    "## 3. How about the most common birthdays?\n",
    "\n",
    "*To clarify - day, month*"
   ]
  },
  {
   "cell_type": "code",
   "execution_count": 103,
   "metadata": {
    "collapsed": false
   },
   "outputs": [
    {
     "data": {
      "text/html": [
       "<div>\n",
       "<table border=\"1\" class=\"dataframe\">\n",
       "  <thead>\n",
       "    <tr style=\"text-align: right;\">\n",
       "      <th></th>\n",
       "      <th>id</th>\n",
       "      <th>name</th>\n",
       "      <th>nationality</th>\n",
       "      <th>sex</th>\n",
       "      <th>dob</th>\n",
       "      <th>height</th>\n",
       "      <th>weight</th>\n",
       "      <th>sport</th>\n",
       "      <th>gold</th>\n",
       "      <th>silver</th>\n",
       "      <th>bronze</th>\n",
       "      <th>date_of_birth</th>\n",
       "      <th>age</th>\n",
       "      <th>age_int</th>\n",
       "      <th>birthday</th>\n",
       "    </tr>\n",
       "  </thead>\n",
       "  <tbody>\n",
       "    <tr>\n",
       "      <th>0</th>\n",
       "      <td>736041664</td>\n",
       "      <td>A Jesus Garcia</td>\n",
       "      <td>ESP</td>\n",
       "      <td>male</td>\n",
       "      <td>10/17/69</td>\n",
       "      <td>1.72</td>\n",
       "      <td>64.0</td>\n",
       "      <td>athletics</td>\n",
       "      <td>0</td>\n",
       "      <td>0</td>\n",
       "      <td>0</td>\n",
       "      <td>1969-10-17</td>\n",
       "      <td>17094 days</td>\n",
       "      <td>17094</td>\n",
       "      <td>17/10</td>\n",
       "    </tr>\n",
       "    <tr>\n",
       "      <th>1</th>\n",
       "      <td>532037425</td>\n",
       "      <td>A Lam Shin</td>\n",
       "      <td>KOR</td>\n",
       "      <td>female</td>\n",
       "      <td>9/23/86</td>\n",
       "      <td>1.68</td>\n",
       "      <td>56.0</td>\n",
       "      <td>fencing</td>\n",
       "      <td>0</td>\n",
       "      <td>0</td>\n",
       "      <td>0</td>\n",
       "      <td>1986-09-23</td>\n",
       "      <td>10909 days</td>\n",
       "      <td>10909</td>\n",
       "      <td>23/9</td>\n",
       "    </tr>\n",
       "    <tr>\n",
       "      <th>2</th>\n",
       "      <td>435962603</td>\n",
       "      <td>Aaron Brown</td>\n",
       "      <td>CAN</td>\n",
       "      <td>male</td>\n",
       "      <td>5/27/92</td>\n",
       "      <td>1.98</td>\n",
       "      <td>79.0</td>\n",
       "      <td>athletics</td>\n",
       "      <td>0</td>\n",
       "      <td>0</td>\n",
       "      <td>1</td>\n",
       "      <td>1992-05-27</td>\n",
       "      <td>8836 days</td>\n",
       "      <td>8836</td>\n",
       "      <td>27/5</td>\n",
       "    </tr>\n",
       "    <tr>\n",
       "      <th>3</th>\n",
       "      <td>521041435</td>\n",
       "      <td>Aaron Cook</td>\n",
       "      <td>MDA</td>\n",
       "      <td>male</td>\n",
       "      <td>1/2/91</td>\n",
       "      <td>1.83</td>\n",
       "      <td>80.0</td>\n",
       "      <td>taekwondo</td>\n",
       "      <td>0</td>\n",
       "      <td>0</td>\n",
       "      <td>0</td>\n",
       "      <td>1991-01-02</td>\n",
       "      <td>9347 days</td>\n",
       "      <td>9347</td>\n",
       "      <td>2/1</td>\n",
       "    </tr>\n",
       "    <tr>\n",
       "      <th>4</th>\n",
       "      <td>33922579</td>\n",
       "      <td>Aaron Gate</td>\n",
       "      <td>NZL</td>\n",
       "      <td>male</td>\n",
       "      <td>11/26/90</td>\n",
       "      <td>1.81</td>\n",
       "      <td>71.0</td>\n",
       "      <td>cycling</td>\n",
       "      <td>0</td>\n",
       "      <td>0</td>\n",
       "      <td>0</td>\n",
       "      <td>1990-11-26</td>\n",
       "      <td>9384 days</td>\n",
       "      <td>9384</td>\n",
       "      <td>26/11</td>\n",
       "    </tr>\n",
       "  </tbody>\n",
       "</table>\n",
       "</div>"
      ],
      "text/plain": [
       "          id            name nationality     sex       dob  height  weight  \\\n",
       "0  736041664  A Jesus Garcia         ESP    male  10/17/69    1.72    64.0   \n",
       "1  532037425      A Lam Shin         KOR  female   9/23/86    1.68    56.0   \n",
       "2  435962603     Aaron Brown         CAN    male   5/27/92    1.98    79.0   \n",
       "3  521041435      Aaron Cook         MDA    male    1/2/91    1.83    80.0   \n",
       "4   33922579      Aaron Gate         NZL    male  11/26/90    1.81    71.0   \n",
       "\n",
       "       sport  gold  silver  bronze date_of_birth        age  age_int birthday  \n",
       "0  athletics     0       0       0    1969-10-17 17094 days    17094    17/10  \n",
       "1    fencing     0       0       0    1986-09-23 10909 days    10909     23/9  \n",
       "2  athletics     0       0       1    1992-05-27  8836 days     8836     27/5  \n",
       "3  taekwondo     0       0       0    1991-01-02  9347 days     9347      2/1  \n",
       "4    cycling     0       0       0    1990-11-26  9384 days     9384    26/11  "
      ]
     },
     "execution_count": 103,
     "metadata": {},
     "output_type": "execute_result"
    }
   ],
   "source": [
    "data['birthday']=data['date_of_birth'].apply(lambda x: str(x.day)+'/'+ str(x.month))\n",
    "data.head()"
   ]
  },
  {
   "cell_type": "code",
   "execution_count": 82,
   "metadata": {
    "collapsed": false
   },
   "outputs": [
    {
     "data": {
      "text/plain": [
       "1/1     58\n",
       "5/2     51\n",
       "10/2    48\n",
       "20/1    47\n",
       "10/1    47\n",
       "19/9    47\n",
       "5/4     46\n",
       "5/3     45\n",
       "13/1    44\n",
       "30/4    44\n",
       "8/3     44\n",
       "29/4    44\n",
       "Name: birthday, dtype: int64"
      ]
     },
     "execution_count": 82,
     "metadata": {},
     "output_type": "execute_result"
    }
   ],
   "source": [
    "data['birthday'].value_counts()[:12]"
   ]
  },
  {
   "cell_type": "markdown",
   "metadata": {},
   "source": [
    "## 4. What are the Countries with more than 100 medals?"
   ]
  },
  {
   "cell_type": "code",
   "execution_count": 104,
   "metadata": {
    "collapsed": false
   },
   "outputs": [
    {
     "data": {
      "text/html": [
       "<div>\n",
       "<table border=\"1\" class=\"dataframe\">\n",
       "  <thead>\n",
       "    <tr style=\"text-align: right;\">\n",
       "      <th></th>\n",
       "      <th>country</th>\n",
       "      <th>code</th>\n",
       "    </tr>\n",
       "  </thead>\n",
       "  <tbody>\n",
       "    <tr>\n",
       "      <th>0</th>\n",
       "      <td>Afghanistan</td>\n",
       "      <td>AFG</td>\n",
       "    </tr>\n",
       "    <tr>\n",
       "      <th>1</th>\n",
       "      <td>Albania</td>\n",
       "      <td>ALB</td>\n",
       "    </tr>\n",
       "    <tr>\n",
       "      <th>2</th>\n",
       "      <td>Algeria</td>\n",
       "      <td>ALG</td>\n",
       "    </tr>\n",
       "    <tr>\n",
       "      <th>3</th>\n",
       "      <td>American Samoa*</td>\n",
       "      <td>ASA</td>\n",
       "    </tr>\n",
       "    <tr>\n",
       "      <th>4</th>\n",
       "      <td>Andorra</td>\n",
       "      <td>AND</td>\n",
       "    </tr>\n",
       "  </tbody>\n",
       "</table>\n",
       "</div>"
      ],
      "text/plain": [
       "           country code\n",
       "0      Afghanistan  AFG\n",
       "1          Albania  ALB\n",
       "2          Algeria  ALG\n",
       "3  American Samoa*  ASA\n",
       "4          Andorra  AND"
      ]
     },
     "execution_count": 104,
     "metadata": {},
     "output_type": "execute_result"
    }
   ],
   "source": [
    "countries=pd.read_csv('countries.csv')\n",
    "\n",
    "countries.head()\n"
   ]
  },
  {
   "cell_type": "code",
   "execution_count": 105,
   "metadata": {
    "collapsed": false
   },
   "outputs": [
    {
     "data": {
      "text/html": [
       "<div>\n",
       "<table border=\"1\" class=\"dataframe\">\n",
       "  <thead>\n",
       "    <tr style=\"text-align: right;\">\n",
       "      <th></th>\n",
       "      <th>id</th>\n",
       "      <th>name</th>\n",
       "      <th>nationality</th>\n",
       "      <th>sex</th>\n",
       "      <th>dob</th>\n",
       "      <th>height</th>\n",
       "      <th>weight</th>\n",
       "      <th>sport</th>\n",
       "      <th>gold</th>\n",
       "      <th>silver</th>\n",
       "      <th>bronze</th>\n",
       "      <th>date_of_birth</th>\n",
       "      <th>age</th>\n",
       "      <th>age_int</th>\n",
       "      <th>birthday</th>\n",
       "      <th>country</th>\n",
       "      <th>code</th>\n",
       "      <th>total_medals</th>\n",
       "    </tr>\n",
       "  </thead>\n",
       "  <tbody>\n",
       "    <tr>\n",
       "      <th>0</th>\n",
       "      <td>736041664</td>\n",
       "      <td>A Jesus Garcia</td>\n",
       "      <td>ESP</td>\n",
       "      <td>male</td>\n",
       "      <td>10/17/69</td>\n",
       "      <td>1.72</td>\n",
       "      <td>64.0</td>\n",
       "      <td>athletics</td>\n",
       "      <td>0</td>\n",
       "      <td>0</td>\n",
       "      <td>0</td>\n",
       "      <td>1969-10-17</td>\n",
       "      <td>17094 days</td>\n",
       "      <td>17094</td>\n",
       "      <td>17/10</td>\n",
       "      <td>Spain</td>\n",
       "      <td>ESP</td>\n",
       "      <td>0</td>\n",
       "    </tr>\n",
       "    <tr>\n",
       "      <th>1</th>\n",
       "      <td>532037425</td>\n",
       "      <td>A Lam Shin</td>\n",
       "      <td>KOR</td>\n",
       "      <td>female</td>\n",
       "      <td>9/23/86</td>\n",
       "      <td>1.68</td>\n",
       "      <td>56.0</td>\n",
       "      <td>fencing</td>\n",
       "      <td>0</td>\n",
       "      <td>0</td>\n",
       "      <td>0</td>\n",
       "      <td>1986-09-23</td>\n",
       "      <td>10909 days</td>\n",
       "      <td>10909</td>\n",
       "      <td>23/9</td>\n",
       "      <td>Korea, South</td>\n",
       "      <td>KOR</td>\n",
       "      <td>0</td>\n",
       "    </tr>\n",
       "    <tr>\n",
       "      <th>2</th>\n",
       "      <td>435962603</td>\n",
       "      <td>Aaron Brown</td>\n",
       "      <td>CAN</td>\n",
       "      <td>male</td>\n",
       "      <td>5/27/92</td>\n",
       "      <td>1.98</td>\n",
       "      <td>79.0</td>\n",
       "      <td>athletics</td>\n",
       "      <td>0</td>\n",
       "      <td>0</td>\n",
       "      <td>1</td>\n",
       "      <td>1992-05-27</td>\n",
       "      <td>8836 days</td>\n",
       "      <td>8836</td>\n",
       "      <td>27/5</td>\n",
       "      <td>Canada</td>\n",
       "      <td>CAN</td>\n",
       "      <td>1</td>\n",
       "    </tr>\n",
       "    <tr>\n",
       "      <th>3</th>\n",
       "      <td>521041435</td>\n",
       "      <td>Aaron Cook</td>\n",
       "      <td>MDA</td>\n",
       "      <td>male</td>\n",
       "      <td>1/2/91</td>\n",
       "      <td>1.83</td>\n",
       "      <td>80.0</td>\n",
       "      <td>taekwondo</td>\n",
       "      <td>0</td>\n",
       "      <td>0</td>\n",
       "      <td>0</td>\n",
       "      <td>1991-01-02</td>\n",
       "      <td>9347 days</td>\n",
       "      <td>9347</td>\n",
       "      <td>2/1</td>\n",
       "      <td>Moldova</td>\n",
       "      <td>MDA</td>\n",
       "      <td>0</td>\n",
       "    </tr>\n",
       "    <tr>\n",
       "      <th>4</th>\n",
       "      <td>33922579</td>\n",
       "      <td>Aaron Gate</td>\n",
       "      <td>NZL</td>\n",
       "      <td>male</td>\n",
       "      <td>11/26/90</td>\n",
       "      <td>1.81</td>\n",
       "      <td>71.0</td>\n",
       "      <td>cycling</td>\n",
       "      <td>0</td>\n",
       "      <td>0</td>\n",
       "      <td>0</td>\n",
       "      <td>1990-11-26</td>\n",
       "      <td>9384 days</td>\n",
       "      <td>9384</td>\n",
       "      <td>26/11</td>\n",
       "      <td>New Zealand</td>\n",
       "      <td>NZL</td>\n",
       "      <td>0</td>\n",
       "    </tr>\n",
       "  </tbody>\n",
       "</table>\n",
       "</div>"
      ],
      "text/plain": [
       "          id            name nationality     sex       dob  height  weight  \\\n",
       "0  736041664  A Jesus Garcia         ESP    male  10/17/69    1.72    64.0   \n",
       "1  532037425      A Lam Shin         KOR  female   9/23/86    1.68    56.0   \n",
       "2  435962603     Aaron Brown         CAN    male   5/27/92    1.98    79.0   \n",
       "3  521041435      Aaron Cook         MDA    male    1/2/91    1.83    80.0   \n",
       "4   33922579      Aaron Gate         NZL    male  11/26/90    1.81    71.0   \n",
       "\n",
       "       sport  gold  silver  bronze date_of_birth        age  age_int birthday  \\\n",
       "0  athletics     0       0       0    1969-10-17 17094 days    17094    17/10   \n",
       "1    fencing     0       0       0    1986-09-23 10909 days    10909     23/9   \n",
       "2  athletics     0       0       1    1992-05-27  8836 days     8836     27/5   \n",
       "3  taekwondo     0       0       0    1991-01-02  9347 days     9347      2/1   \n",
       "4    cycling     0       0       0    1990-11-26  9384 days     9384    26/11   \n",
       "\n",
       "        country code  total_medals  \n",
       "0         Spain  ESP             0  \n",
       "1  Korea, South  KOR             0  \n",
       "2        Canada  CAN             1  \n",
       "3       Moldova  MDA             0  \n",
       "4   New Zealand  NZL             0  "
      ]
     },
     "execution_count": 105,
     "metadata": {},
     "output_type": "execute_result"
    }
   ],
   "source": [
    "data=data.merge(countries, left_on='nationality', right_on='code', how='left')\n",
    "data.head()\n",
    "\n",
    "data['total_medals']=data['gold']+data['silver']+data['bronze']\n",
    "data.head()\n",
    "#data.groupby('country')['total_medals'].sum()"
   ]
  },
  {
   "cell_type": "code",
   "execution_count": 118,
   "metadata": {
    "collapsed": false
   },
   "outputs": [
    {
     "data": {
      "text/html": [
       "<div>\n",
       "<table border=\"1\" class=\"dataframe\">\n",
       "  <thead>\n",
       "    <tr style=\"text-align: right;\">\n",
       "      <th></th>\n",
       "      <th>sum</th>\n",
       "    </tr>\n",
       "    <tr>\n",
       "      <th>country</th>\n",
       "      <th></th>\n",
       "    </tr>\n",
       "  </thead>\n",
       "  <tbody>\n",
       "    <tr>\n",
       "      <th>China</th>\n",
       "      <td>113</td>\n",
       "    </tr>\n",
       "    <tr>\n",
       "      <th>Germany</th>\n",
       "      <td>160</td>\n",
       "    </tr>\n",
       "    <tr>\n",
       "      <th>Russia</th>\n",
       "      <td>115</td>\n",
       "    </tr>\n",
       "    <tr>\n",
       "      <th>United Kingdom</th>\n",
       "      <td>145</td>\n",
       "    </tr>\n",
       "    <tr>\n",
       "      <th>United States</th>\n",
       "      <td>264</td>\n",
       "    </tr>\n",
       "  </tbody>\n",
       "</table>\n",
       "</div>"
      ],
      "text/plain": [
       "                sum\n",
       "country            \n",
       "China           113\n",
       "Germany         160\n",
       "Russia          115\n",
       "United Kingdom  145\n",
       "United States   264"
      ]
     },
     "execution_count": 118,
     "metadata": {},
     "output_type": "execute_result"
    }
   ],
   "source": [
    "data.groupby('country')['total_medals'].sum().sort_values(ascending=False)\n",
    "\n",
    "medals=data.groupby('country')['total_medals'].agg({'sum':sum})\n",
    "medals[medals['sum']>100]"
   ]
  },
  {
   "cell_type": "markdown",
   "metadata": {},
   "source": [
    "## 5. Create a bar or pie chart for the results of the previous exercise."
   ]
  },
  {
   "cell_type": "code",
   "execution_count": 121,
   "metadata": {
    "collapsed": false
   },
   "outputs": [
    {
     "data": {
      "text/plain": [
       "<matplotlib.axes._subplots.AxesSubplot at 0x114c08940>"
      ]
     },
     "execution_count": 121,
     "metadata": {},
     "output_type": "execute_result"
    },
    {
     "data": {
      "image/png": "[encoded data removed]",
      "text/plain": [
       "<matplotlib.figure.Figure at 0x114c1a048>"
      ]
     },
     "metadata": {},
     "output_type": "display_data"
    }
   ],
   "source": [
    "import matplotlib.pyplot as plt\n",
    "%matplotlib inline\n",
    "\n",
    "medals[medals['sum']>100].plot(kind='bar')"
   ]
  },
  {
   "cell_type": "markdown",
   "metadata": {},
   "source": [
    "## 6. Male weightlifting competitions are divided into 8 weight classes. Can you estimate these weight classes by looking at the data? Hint: Create a scatter plot with Body weight on the x-axis and choose height as y."
   ]
  },
  {
   "cell_type": "code",
   "execution_count": 126,
   "metadata": {
    "collapsed": false
   },
   "outputs": [
    {
     "data": {
      "text/plain": [
       "array(['athletics', 'fencing', 'taekwondo', 'cycling', 'triathlon',\n",
       "       'volleyball', 'aquatics', 'rugby sevens', 'wrestling', 'football',\n",
       "       'shooting', 'boxing', 'equestrian', 'rowing', 'judo', 'handball',\n",
       "       'badminton', 'hockey', 'modern pentathlon', 'table tennis', 'canoe',\n",
       "       'basketball', 'golf', 'archery', 'weightlifting', 'sailing',\n",
       "       'tennis', 'gymnastics'], dtype=object)"
      ]
     },
     "execution_count": 126,
     "metadata": {},
     "output_type": "execute_result"
    }
   ],
   "source": [
    "data.sport.unique()"
   ]
  },
  {
   "cell_type": "code",
   "execution_count": 129,
   "metadata": {
    "collapsed": false
   },
   "outputs": [
    {
     "data": {
      "text/html": [
       "<div>\n",
       "<table border=\"1\" class=\"dataframe\">\n",
       "  <thead>\n",
       "    <tr style=\"text-align: right;\">\n",
       "      <th></th>\n",
       "      <th>id</th>\n",
       "      <th>name</th>\n",
       "      <th>nationality</th>\n",
       "      <th>sex</th>\n",
       "      <th>dob</th>\n",
       "      <th>height</th>\n",
       "      <th>weight</th>\n",
       "      <th>sport</th>\n",
       "      <th>gold</th>\n",
       "      <th>silver</th>\n",
       "      <th>bronze</th>\n",
       "      <th>date_of_birth</th>\n",
       "      <th>age</th>\n",
       "      <th>age_int</th>\n",
       "      <th>birthday</th>\n",
       "      <th>country</th>\n",
       "      <th>code</th>\n",
       "      <th>total_medals</th>\n",
       "    </tr>\n",
       "  </thead>\n",
       "  <tbody>\n",
       "    <tr>\n",
       "      <th>120</th>\n",
       "      <td>242818896</td>\n",
       "      <td>Adrian Edward Zielinski</td>\n",
       "      <td>POL</td>\n",
       "      <td>male</td>\n",
       "      <td>3/28/89</td>\n",
       "      <td>1.70</td>\n",
       "      <td>94.0</td>\n",
       "      <td>weightlifting</td>\n",
       "      <td>0</td>\n",
       "      <td>0</td>\n",
       "      <td>0</td>\n",
       "      <td>1989-03-28</td>\n",
       "      <td>9992 days</td>\n",
       "      <td>9992</td>\n",
       "      <td>28/3</td>\n",
       "      <td>Poland</td>\n",
       "      <td>POL</td>\n",
       "      <td>0</td>\n",
       "    </tr>\n",
       "    <tr>\n",
       "      <th>186</th>\n",
       "      <td>162169475</td>\n",
       "      <td>Ahmed Mohamed</td>\n",
       "      <td>EGY</td>\n",
       "      <td>male</td>\n",
       "      <td>4/27/88</td>\n",
       "      <td>1.85</td>\n",
       "      <td>144.0</td>\n",
       "      <td>weightlifting</td>\n",
       "      <td>0</td>\n",
       "      <td>0</td>\n",
       "      <td>0</td>\n",
       "      <td>1988-04-27</td>\n",
       "      <td>10327 days</td>\n",
       "      <td>10327</td>\n",
       "      <td>27/4</td>\n",
       "      <td>Egypt</td>\n",
       "      <td>EGY</td>\n",
       "      <td>0</td>\n",
       "    </tr>\n",
       "    <tr>\n",
       "      <th>189</th>\n",
       "      <td>101574216</td>\n",
       "      <td>Ahmed Saad</td>\n",
       "      <td>EGY</td>\n",
       "      <td>male</td>\n",
       "      <td>11/1/86</td>\n",
       "      <td>1.60</td>\n",
       "      <td>62.0</td>\n",
       "      <td>weightlifting</td>\n",
       "      <td>0</td>\n",
       "      <td>0</td>\n",
       "      <td>0</td>\n",
       "      <td>1986-11-01</td>\n",
       "      <td>10870 days</td>\n",
       "      <td>10870</td>\n",
       "      <td>1/11</td>\n",
       "      <td>Egypt</td>\n",
       "      <td>EGY</td>\n",
       "      <td>0</td>\n",
       "    </tr>\n",
       "    <tr>\n",
       "      <th>403</th>\n",
       "      <td>745034260</td>\n",
       "      <td>Alexandr Spac</td>\n",
       "      <td>MDA</td>\n",
       "      <td>male</td>\n",
       "      <td>11/21/89</td>\n",
       "      <td>1.64</td>\n",
       "      <td>77.0</td>\n",
       "      <td>weightlifting</td>\n",
       "      <td>0</td>\n",
       "      <td>0</td>\n",
       "      <td>0</td>\n",
       "      <td>1989-11-21</td>\n",
       "      <td>9754 days</td>\n",
       "      <td>9754</td>\n",
       "      <td>21/11</td>\n",
       "      <td>Moldova</td>\n",
       "      <td>MDA</td>\n",
       "      <td>0</td>\n",
       "    </tr>\n",
       "    <tr>\n",
       "      <th>405</th>\n",
       "      <td>928138606</td>\n",
       "      <td>Alexandr Zaichikov</td>\n",
       "      <td>KAZ</td>\n",
       "      <td>male</td>\n",
       "      <td>8/17/92</td>\n",
       "      <td>1.80</td>\n",
       "      <td>105.0</td>\n",
       "      <td>weightlifting</td>\n",
       "      <td>0</td>\n",
       "      <td>0</td>\n",
       "      <td>1</td>\n",
       "      <td>1992-08-17</td>\n",
       "      <td>8754 days</td>\n",
       "      <td>8754</td>\n",
       "      <td>17/8</td>\n",
       "      <td>Kazakhstan</td>\n",
       "      <td>KAZ</td>\n",
       "      <td>1</td>\n",
       "    </tr>\n",
       "  </tbody>\n",
       "</table>\n",
       "</div>"
      ],
      "text/plain": [
       "            id                     name nationality   sex       dob  height  \\\n",
       "120  242818896  Adrian Edward Zielinski         POL  male   3/28/89    1.70   \n",
       "186  162169475            Ahmed Mohamed         EGY  male   4/27/88    1.85   \n",
       "189  101574216               Ahmed Saad         EGY  male   11/1/86    1.60   \n",
       "403  745034260            Alexandr Spac         MDA  male  11/21/89    1.64   \n",
       "405  928138606       Alexandr Zaichikov         KAZ  male   8/17/92    1.80   \n",
       "\n",
       "     weight          sport  gold  silver  bronze date_of_birth        age  \\\n",
       "120    94.0  weightlifting     0       0       0    1989-03-28  9992 days   \n",
       "186   144.0  weightlifting     0       0       0    1988-04-27 10327 days   \n",
       "189    62.0  weightlifting     0       0       0    1986-11-01 10870 days   \n",
       "403    77.0  weightlifting     0       0       0    1989-11-21  9754 days   \n",
       "405   105.0  weightlifting     0       0       1    1992-08-17  8754 days   \n",
       "\n",
       "     age_int birthday     country code  total_medals  \n",
       "120     9992     28/3      Poland  POL             0  \n",
       "186    10327     27/4       Egypt  EGY             0  \n",
       "189    10870     1/11       Egypt  EGY             0  \n",
       "403     9754    21/11     Moldova  MDA             0  \n",
       "405     8754     17/8  Kazakhstan  KAZ             1  "
      ]
     },
     "execution_count": 129,
     "metadata": {},
     "output_type": "execute_result"
    }
   ],
   "source": [
    "data_male_weight=data[(data['sport']=='weightlifting') & (data['sex']=='male')]\n",
    "data_male_weight.head()"
   ]
  },
  {
   "cell_type": "code",
   "execution_count": 138,
   "metadata": {
    "collapsed": false
   },
   "outputs": [
    {
     "data": {
      "image/png": "[encoded data removed]",
      "text/plain": [
       "<matplotlib.figure.Figure at 0x1196351d0>"
      ]
     },
     "metadata": {},
     "output_type": "display_data"
    }
   ],
   "source": [
    "f, ax = plt.subplots(figsize=(15,5))\n",
    "ax.scatter(x=data_male_weight['weight'], y=data_male_weight['height'], marker='o')\n",
    "\n",
    "plt.legend()\n",
    "plt.ylabel(\"Height \")\n",
    "plt.xlabel(\"Weight\")\n",
    "plt.xticks(np.arange(min(data_male_weight['weight']), max(data_male_weight['weight'])+1, 5))\n",
    "plt.title(\"Weight vs. Height by male weightlifters\")\n",
    "plt.show()\n",
    "\n",
    "#the weights are: around 56, 62, 69, 77, 85, 93, 105 and above"
   ]
  },
  {
   "cell_type": "markdown",
   "metadata": {},
   "source": [
    "## 7. Generate a histogram of male and female height distribution among all participants."
   ]
  },
  {
   "cell_type": "code",
   "execution_count": 157,
   "metadata": {
    "collapsed": false
   },
   "outputs": [
    {
     "data": {
      "text/plain": [
       "<matplotlib.text.Text at 0x118ccdc50>"
      ]
     },
     "execution_count": 157,
     "metadata": {},
     "output_type": "execute_result"
    },
    {
     "data": {
      "image/png": "[encoded data removed]",
      "text/plain": [
       "<matplotlib.figure.Figure at 0x1196810f0>"
      ]
     },
     "metadata": {},
     "output_type": "display_data"
    }
   ],
   "source": [
    "male_heights=data[data['sex']=='male']['height'].dropna()\n",
    "female_heights=data[data['sex']=='female']['height'].dropna()\n",
    "\n",
    "f, ax=plt.subplots(figsize=(15,5))\n",
    "\n",
    "ax.hist(male_heights, bins=20, color='b', label='male')\n",
    "ax.hist(female_heights, bins=20, color='r', label='female')\n",
    "plt.legend()\n",
    "plt.xlabel('height')\n",
    "plt.ylabel('count person')"
   ]
  },
  {
   "cell_type": "markdown",
   "metadata": {},
   "source": [
    "## 8. Using the Seaborn package create a box plot for male and female height distribution among all participants."
   ]
  },
  {
   "cell_type": "code",
   "execution_count": 178,
   "metadata": {
    "collapsed": false
   },
   "outputs": [
    {
     "data": {
      "text/plain": [
       "<matplotlib.text.Text at 0x120008710>"
      ]
     },
     "execution_count": 178,
     "metadata": {},
     "output_type": "execute_result"
    },
    {
     "data": {
      "image/png": "[encoded data removed]",
      "text/plain": [
       "<matplotlib.figure.Figure at 0x11ff2fb00>"
      ]
     },
     "metadata": {},
     "output_type": "display_data"
    }
   ],
   "source": [
    "f, ax=plt.subplots()\n",
    "\n",
    "ax.boxplot([male_heights, female_heights])\n",
    "plt.xticks([1, 2 ], ['male', 'female'])\n",
    "\n",
    "plt.ylabel('height')\n",
    "plt.title('Boxplot male and female heights')"
   ]
  },
  {
   "cell_type": "markdown",
   "metadata": {},
   "source": [
    "## 9. _Optional_: What else would you try?"
   ]
  },
  {
   "cell_type": "code",
   "execution_count": 188,
   "metadata": {
    "collapsed": false
   },
   "outputs": [
    {
     "data": {
      "text/plain": [
       "array(['athletics', 'fencing', 'taekwondo', 'cycling', 'triathlon',\n",
       "       'volleyball', 'aquatics', 'rugby sevens', 'wrestling', 'football',\n",
       "       'shooting', 'boxing', 'equestrian', 'rowing', 'judo', 'handball',\n",
       "       'badminton', 'hockey', 'modern pentathlon', 'table tennis', 'canoe',\n",
       "       'basketball', 'golf', 'archery', 'weightlifting', 'sailing',\n",
       "       'tennis', 'gymnastics'], dtype=object)"
      ]
     },
     "execution_count": 188,
     "metadata": {},
     "output_type": "execute_result"
    }
   ],
   "source": [
    "# what kind of sports are there\n",
    "data.sport.unique()\n"
   ]
  },
  {
   "cell_type": "code",
   "execution_count": 186,
   "metadata": {
    "collapsed": false
   },
   "outputs": [
    {
     "data": {
      "text/html": [
       "<div>\n",
       "<table border=\"1\" class=\"dataframe\">\n",
       "  <thead>\n",
       "    <tr style=\"text-align: right;\">\n",
       "      <th></th>\n",
       "      <th>id</th>\n",
       "      <th>name</th>\n",
       "      <th>nationality</th>\n",
       "      <th>sex</th>\n",
       "      <th>dob</th>\n",
       "      <th>height</th>\n",
       "      <th>weight</th>\n",
       "      <th>sport</th>\n",
       "      <th>gold</th>\n",
       "      <th>silver</th>\n",
       "      <th>bronze</th>\n",
       "      <th>date_of_birth</th>\n",
       "      <th>age</th>\n",
       "      <th>age_int</th>\n",
       "      <th>birthday</th>\n",
       "      <th>country</th>\n",
       "      <th>code</th>\n",
       "      <th>total_medals</th>\n",
       "    </tr>\n",
       "  </thead>\n",
       "  <tbody>\n",
       "    <tr>\n",
       "      <th>3598</th>\n",
       "      <td>32924852</td>\n",
       "      <td>Gaurika Singh</td>\n",
       "      <td>NEP</td>\n",
       "      <td>female</td>\n",
       "      <td>11/26/02</td>\n",
       "      <td>1.55</td>\n",
       "      <td>45.0</td>\n",
       "      <td>aquatics</td>\n",
       "      <td>0</td>\n",
       "      <td>0</td>\n",
       "      <td>0</td>\n",
       "      <td>2002-11-26</td>\n",
       "      <td>5001 days</td>\n",
       "      <td>13.70137</td>\n",
       "      <td>26/11</td>\n",
       "      <td>Nepal</td>\n",
       "      <td>NEP</td>\n",
       "      <td>0</td>\n",
       "    </tr>\n",
       "  </tbody>\n",
       "</table>\n",
       "</div>"
      ],
      "text/plain": [
       "            id           name nationality     sex       dob  height  weight  \\\n",
       "3598  32924852  Gaurika Singh         NEP  female  11/26/02    1.55    45.0   \n",
       "\n",
       "         sport  gold  silver  bronze date_of_birth       age   age_int  \\\n",
       "3598  aquatics     0       0       0    2002-11-26 5001 days  13.70137   \n",
       "\n",
       "     birthday country code  total_medals  \n",
       "3598    26/11   Nepal  NEP             0  "
      ]
     },
     "execution_count": 186,
     "metadata": {},
     "output_type": "execute_result"
    }
   ],
   "source": [
    "#who has the youngest  and oldest athlete\n",
    "data[data.age==data.age.min()]"
   ]
  },
  {
   "cell_type": "code",
   "execution_count": 189,
   "metadata": {
    "collapsed": false
   },
   "outputs": [
    {
     "data": {
      "text/html": [
       "<div>\n",
       "<table border=\"1\" class=\"dataframe\">\n",
       "  <thead>\n",
       "    <tr style=\"text-align: right;\">\n",
       "      <th></th>\n",
       "      <th>id</th>\n",
       "      <th>name</th>\n",
       "      <th>nationality</th>\n",
       "      <th>sex</th>\n",
       "      <th>dob</th>\n",
       "      <th>height</th>\n",
       "      <th>weight</th>\n",
       "      <th>sport</th>\n",
       "      <th>gold</th>\n",
       "      <th>silver</th>\n",
       "      <th>bronze</th>\n",
       "      <th>date_of_birth</th>\n",
       "      <th>age</th>\n",
       "      <th>age_int</th>\n",
       "      <th>birthday</th>\n",
       "      <th>country</th>\n",
       "      <th>code</th>\n",
       "      <th>total_medals</th>\n",
       "    </tr>\n",
       "  </thead>\n",
       "  <tbody>\n",
       "    <tr>\n",
       "      <th>5299</th>\n",
       "      <td>271404469</td>\n",
       "      <td>Julie Brougham</td>\n",
       "      <td>NZL</td>\n",
       "      <td>female</td>\n",
       "      <td>5/20/54</td>\n",
       "      <td>1.57</td>\n",
       "      <td>48.0</td>\n",
       "      <td>equestrian</td>\n",
       "      <td>0</td>\n",
       "      <td>0</td>\n",
       "      <td>0</td>\n",
       "      <td>1954-05-20</td>\n",
       "      <td>22723 days</td>\n",
       "      <td>62.254795</td>\n",
       "      <td>20/5</td>\n",
       "      <td>New Zealand</td>\n",
       "      <td>NZL</td>\n",
       "      <td>0</td>\n",
       "    </tr>\n",
       "  </tbody>\n",
       "</table>\n",
       "</div>"
      ],
      "text/plain": [
       "             id            name nationality     sex      dob  height  weight  \\\n",
       "5299  271404469  Julie Brougham         NZL  female  5/20/54    1.57    48.0   \n",
       "\n",
       "           sport  gold  silver  bronze date_of_birth        age    age_int  \\\n",
       "5299  equestrian     0       0       0    1954-05-20 22723 days  62.254795   \n",
       "\n",
       "     birthday      country code  total_medals  \n",
       "5299     20/5  New Zealand  NZL             0  "
      ]
     },
     "execution_count": 189,
     "metadata": {},
     "output_type": "execute_result"
    }
   ],
   "source": [
    "data[data.age==data.age.max()]"
   ]
  },
  {
   "cell_type": "code",
   "execution_count": 195,
   "metadata": {
    "collapsed": false
   },
   "outputs": [
    {
     "data": {
      "text/plain": [
       "sport\n",
       "athletics            2363\n",
       "aquatics             1445\n",
       "football              611\n",
       "rowing                547\n",
       "cycling               525\n",
       "hockey                432\n",
       "judo                  392\n",
       "shooting              390\n",
       "volleyball            384\n",
       "sailing               379\n",
       "handball              363\n",
       "wrestling             353\n",
       "canoe                 331\n",
       "gymnastics            324\n",
       "rugby sevens          300\n",
       "basketball            288\n",
       "boxing                286\n",
       "weightlifting         258\n",
       "fencing               246\n",
       "equestrian            222\n",
       "tennis                196\n",
       "table tennis          172\n",
       "badminton             172\n",
       "taekwondo             128\n",
       "archery               128\n",
       "golf                  120\n",
       "triathlon             110\n",
       "modern pentathlon      72\n",
       "Name: id, dtype: int64"
      ]
     },
     "execution_count": 195,
     "metadata": {},
     "output_type": "execute_result"
    }
   ],
   "source": [
    "#which sports has the most participants?\n",
    "data.groupby('sport')['id'].count().sort_values(ascending=False)"
   ]
  },
  {
   "cell_type": "code",
   "execution_count": 199,
   "metadata": {
    "collapsed": false
   },
   "outputs": [
    {
     "data": {
      "text/plain": [
       "sport      country       \n",
       "athletics  United States     129\n",
       "           Germany            89\n",
       "aquatics   United States      85\n",
       "           Australia          83\n",
       "           Italy              81\n",
       "athletics  United Kingdom     80\n",
       "aquatics   Brazil             80\n",
       "           China              78\n",
       "athletics  Poland             70\n",
       "           Brazil             67\n",
       "aquatics   Russia             67\n",
       "athletics  Ukraine            65\n",
       "           Canada             65\n",
       "aquatics   Japan              61\n",
       "athletics  Australia          60\n",
       "aquatics   Hungary            58\n",
       "athletics  China              55\n",
       "           France             54\n",
       "           Jamaica            53\n",
       "           Japan              52\n",
       "Name: id, dtype: int64"
      ]
     },
     "execution_count": 199,
     "metadata": {},
     "output_type": "execute_result"
    }
   ],
   "source": [
    "#which sports in which country has the most  participants (top 20)?\n",
    "data.groupby(['sport', 'country'])['id'].count().sort_values(ascending=False)[:20]"
   ]
  },
  {
   "cell_type": "code",
   "execution_count": 210,
   "metadata": {
    "collapsed": false
   },
   "outputs": [
    {
     "data": {
      "text/plain": [
       "country\n",
       "United States     0.245150\n",
       "Fiji              0.240741\n",
       "Jamaica           0.192982\n",
       "Russia            0.182456\n",
       "United Kingdom    0.171123\n",
       "Tajikistan        0.142857\n",
       "Jordan            0.125000\n",
       "Denmark           0.117188\n",
       "China             0.113861\n",
       "Germany           0.111111\n",
       "Name: ratio_gold, dtype: float64"
      ]
     },
     "execution_count": 210,
     "metadata": {},
     "output_type": "execute_result"
    }
   ],
   "source": [
    "#number of gold /participants -> top10\n",
    "\n",
    "aggr=data.groupby('country')['gold'].agg({'sum': 'sum','count': 'count'} )\n",
    "\n",
    "aggr['ratio_gold']=aggr['sum']/aggr['count']\n",
    "aggr.ratio_gold.sort_values(ascending=False)[:10]"
   ]
  },
  {
   "cell_type": "code",
   "execution_count": 213,
   "metadata": {
    "collapsed": false
   },
   "outputs": [
    {
     "data": {
      "text/plain": [
       "country\n",
       "Jamaica           0.526316\n",
       "United States     0.465608\n",
       "Russia            0.403509\n",
       "United Kingdom    0.387701\n",
       "Germany           0.362812\n",
       "Azerbaijan        0.321429\n",
       "Denmark           0.320312\n",
       "Norway            0.306452\n",
       "China             0.279703\n",
       "Croatia           0.272727\n",
       "Name: ratio_medals, dtype: float64"
      ]
     },
     "execution_count": 213,
     "metadata": {},
     "output_type": "execute_result"
    }
   ],
   "source": [
    "#number of total medals /participants -> top10\n",
    "\n",
    "aggr_total=data.groupby('country')['total_medals'].agg({'sum': 'sum','count': 'count'} )\n",
    "\n",
    "aggr_total['ratio_medals']=aggr_total['sum']/aggr_total['count']\n",
    "aggr_total.ratio_medals.sort_values(ascending=False)[:10]"
   ]
  }
 ],
 "metadata": {
  "anaconda-cloud": {},
  "kernelspec": {
   "display_name": "Python [default]",
   "language": "python",
   "name": "python3"
  },
  "language_info": {
   "codemirror_mode": {
    "name": "ipython",
    "version": 3
   },
   "file_extension": ".py",
   "mimetype": "text/x-python",
   "name": "python",
   "nbconvert_exporter": "python",
   "pygments_lexer": "ipython3",
   "version": "3.5.2"
  }
 },
 "nbformat": 4,
 "nbformat_minor": 1
}
